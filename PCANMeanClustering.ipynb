{
 "cells": [
  {
   "cell_type": "code",
   "execution_count": 3,
   "metadata": {},
   "outputs": [],
   "source": [
    "import numpy as np\n",
    "import matplotlib.pyplot as plt\n",
    "import random\n",
    "%matplotlib inline"
   ]
  },
  {
   "cell_type": "code",
   "execution_count": 4,
   "metadata": {},
   "outputs": [],
   "source": [
    "def init_board_gauss(N, k):\n",
    "    ''' taken from https://datasciencelab.wordpress.com/tag/lloyds-algorithm/\n",
    "    used to intialze the data set with k clusters and N points\n",
    "    '''\n",
    "    n = float(N)/k\n",
    "    X = []\n",
    "    for i in range(k):\n",
    "        c = (random.uniform(-10, 10), random.uniform(-10, 10))\n",
    "        s = random.uniform(0.05,0.5)\n",
    "        x = []\n",
    "        while len(x) < n:\n",
    "            a, b = np.array([np.random.normal(c[0], s), np.random.normal(c[1], s)])       \n",
    "            x.append([a,b])\n",
    "        X.extend(x)\n",
    "    X = np.array(X)[:N]\n",
    "    return X"
   ]
  },
  {
   "cell_type": "code",
   "execution_count": 5,
   "metadata": {},
   "outputs": [
    {
     "name": "stdout",
     "output_type": "stream",
     "text": [
      "(2, 2)\n"
     ]
    },
    {
     "data": {
      "image/png": "[encoded data removed]",
      "text/plain": [
       "<Figure size 432x288 with 1 Axes>"
      ]
     },
     "metadata": {},
     "output_type": "display_data"
    }
   ],
   "source": [
    "def scope():\n",
    "    '''\n",
    "    demo of PCA \n",
    "    In algorithm the each area is split based on the eigen vector that corresponds to max eigen value\n",
    "    for no numpy implementation a library with eigen value computation is required\n",
    "    this is linear in data points\n",
    "    '''\n",
    "    data_fit =  init_board_gauss(100,4).transpose()\n",
    "    mean_x = data_fit[0].mean()\n",
    "    mean_y = data_fit[1].mean()\n",
    "    diff_x = mean_x - data_fit[0];\n",
    "    diff_y = mean_y - data_fit[1];\n",
    "    diff = np.array([diff_x, diff_y])\n",
    "    cov_mat = np.matmul(diff,diff.transpose()) \n",
    "    # dimentions of this matrix does not depend on data size but on point dimentions \n",
    "    # 2,2 in case of a plane\n",
    "    eig_val, eig_vec=np.linalg.eig(cov_mat)  \n",
    "    print(cov_mat.shape)\n",
    "    #print(eig_val)\n",
    "    #print(eig_vec)\n",
    "    index = np.argmax(eig_val)\n",
    "    plt.plot(data_fit[0],data_fit[1],'ro')\n",
    "    plt.plot(mean_x, mean_y,'bo')\n",
    "    \n",
    "    plt.quiver(mean_x, mean_y,eig_vec[0,index],eig_vec[1,index], scale=2)\n",
    "    plt.axis([-15, 15, -15, 15])\n",
    "scope()"
   ]
  },
  {
   "cell_type": "code",
   "execution_count": 13,
   "metadata": {},
   "outputs": [],
   "source": [
    "# define data struct  needed to store the processed map\n",
    "\n",
    "class MapNode(object):\n",
    "    '''  node in the map tree'''\n",
    "    def __init__(self, x, y, eig_vec, num_points, rmse):\n",
    "        self.left=None\n",
    "        self.right=None\n",
    "        self.x = x\n",
    "        self.y = y\n",
    "        self.eig_vec = eig_vec\n",
    "        self.num_points = num_points\n",
    "        self.rmse = rmse\n",
    "class Point(object):\n",
    "    ''' leaf in the map tree'''\n",
    "    def __init__(self, x, y):\n",
    "        self.x = x\n",
    "        self.y = y\n",
    "        self.num_points = 1\n",
    "\n",
    "def parse_map(data_fit):\n",
    "    ''' basic implementaion of k-mean tree with PCA rotations at every  split\n",
    "    used to avoid grid effect when visualizing n-th slice of the map tree\n",
    "    '''\n",
    "    _, num_points = data_fit.shape\n",
    "    #print(data_fit.shape)\n",
    "    if num_points == 0:\n",
    "        #print('terminated',depth)\n",
    "        return None\n",
    "    if num_points == 1:\n",
    "        #print(\"term\",depth)\n",
    "        return Point(data_fit[0],data_fit[1])\n",
    "    #print(\"con\",depth)\n",
    "    mean_x = data_fit[0].mean()\n",
    "    mean_y = data_fit[1].mean()\n",
    "    diff_x = mean_x - data_fit[0];\n",
    "    diff_y = mean_y - data_fit[1];\n",
    "    diff = np.array([diff_x, diff_y])\n",
    "    cov_mat = np.matmul(diff,diff.transpose())\n",
    "    eig_val, eig_vec = np.linalg.eig(cov_mat)\n",
    "    index = np.argmax(eig_val)\n",
    "    rsme = np.sqrt(np.matmul(diff_x,diff_x) + np.matmul(diff_y,diff_y))\n",
    "    new_node = MapNode(mean_x, mean_y, eig_vec[:,index], num_points, rsme)\n",
    "    sort_val  = np.matmul(new_node.eig_vec, diff)\n",
    "    \n",
    "    #this recursive (naive) can bi unwinded\n",
    "    new_node.left = parse_map(data_fit[:,np.where(sort_val>0)[0]])\n",
    "    new_node.right = parse_map(data_fit[:,np.where(sort_val<=0)[0]])\n",
    "    #TODO partion data\n",
    "    return new_node\n",
    "\n",
    "def get_forest(map_node, number):\n",
    "    ''' return top n clusters'''\n",
    "    if type(map_node) is not MapNode:\n",
    "        return map_node\n",
    "    forest = [map_node]\n",
    "    leafs = []\n",
    "    #this check can be replaced by the distance to open nodes\n",
    "    # that would prabably fit the application better\n",
    "    while len(forest) + len(leafs) < number and len(forest)!=0:\n",
    "        sorted(forest, key=lambda node: node.rmse/node.num_points, reverse=True)\n",
    "        node = forest.pop(0)\n",
    "        \n",
    "        #this naive\n",
    "        if type(node.left) is MapNode:\n",
    "            forest.append(node.left)\n",
    "        if type(node.right) is MapNode:   \n",
    "            forest.append(node.right)\n",
    "        if type(node.left) is Point:\n",
    "            leafs.append(node.left)\n",
    "        if type(node.right) is Point:   \n",
    "            leafs.append(node.right)\n",
    "\n",
    "    return forest+leafs\n",
    "    \n"
   ]
  },
  {
   "cell_type": "code",
   "execution_count": 19,
   "metadata": {},
   "outputs": [
    {
     "data": {
      "image/png": "[encoded data removed]",
      "text/plain": [
       "<Figure size 432x288 with 1 Axes>"
      ]
     },
     "metadata": {},
     "output_type": "display_data"
    }
   ],
   "source": [
    "def scope():\n",
    "    # static show case\n",
    "    data_fit =  init_board_gauss(100,8).transpose()\n",
    "    map_node = parse_map(data_fit)\n",
    "    \n",
    "    plt.plot(data_fit[0],data_fit[1],'ro')\n",
    "    nodes = get_forest(map_node,5)\n",
    "    for node in nodes:\n",
    "        plt.plot(node.x, node.y,'bo')\n",
    "        plt.text(node.x, node.y, str(node.num_points), fontsize=12)\n",
    "    plt.axis([-15, 15, -15, 15])\n",
    "scope()"
   ]
  },
  {
   "cell_type": "code",
   "execution_count": 15,
   "metadata": {},
   "outputs": [],
   "source": [
    "from __future__ import print_function\n",
    "from ipywidgets import interact, interactive, fixed, interact_manual\n",
    "import ipywidgets as widgets"
   ]
  },
  {
   "cell_type": "markdown",
   "metadata": {},
   "source": [
    "Dynamic show case"
   ]
  },
  {
   "cell_type": "code",
   "execution_count": 16,
   "metadata": {},
   "outputs": [],
   "source": [
    "\n",
    "class Vitest(object):\n",
    "    def __init__(self,points,clusters):\n",
    "        self.data_fit = init_board_gauss(points,clusters).transpose()\n",
    "        self.map_node = parse_map(self.data_fit)\n",
    "    def inertscope(self,n):\n",
    "        plt.plot(self.data_fit[0],self.data_fit[1],'ro')\n",
    "        nodes = get_forest(self.map_node,n)\n",
    "        for node in nodes:\n",
    "            plt.plot(node.x, node.y,'bo')\n",
    "            plt.text(node.x, node.y, str(node.num_points), fontsize=12)\n",
    "        plt.axis([-15, 15, -15, 15])"
   ]
  },
  {
   "cell_type": "code",
   "execution_count": 17,
   "metadata": {},
   "outputs": [
    {
     "data": {
      "application/vnd.jupyter.widget-view+json": {
       "model_id": "198f0f514be64043bfc81363b952214b",
       "version_major": 2,
       "version_minor": 0
      },
      "text/plain": [
       "interactive(children=(IntSlider(value=10, description='n', max=50, min=1), Output()), _dom_classes=('widget-in…"
      ]
     },
     "metadata": {},
     "output_type": "display_data"
    },
    {
     "data": {
      "text/plain": [
       "<function ipywidgets.widgets.interaction._InteractFactory.__call__.<locals>.<lambda>(*args, **kwargs)>"
      ]
     },
     "execution_count": 17,
     "metadata": {},
     "output_type": "execute_result"
    }
   ],
   "source": [
    "# noticalbe slowdown when dragging slided due to re drawing of every point on the image for every step of the slider\n",
    "#that is not optimal \n",
    "tester=Vitest(200, 10)\n",
    "interact(tester.inertscope, n=widgets.IntSlider(min=1,max=50,step=1,value=10))"
   ]
  },
  {
   "cell_type": "code",
   "execution_count": null,
   "metadata": {},
   "outputs": [],
   "source": []
  },
  {
   "cell_type": "code",
   "execution_count": null,
   "metadata": {},
   "outputs": [],
   "source": []
  }
 ],
 "metadata": {
  "kernelspec": {
   "display_name": "Python 3",
   "language": "python",
   "name": "python3"
  },
  "language_info": {
   "codemirror_mode": {
    "name": "ipython",
    "version": 3
   },
   "file_extension": ".py",
   "mimetype": "text/x-python",
   "name": "python",
   "nbconvert_exporter": "python",
   "pygments_lexer": "ipython3",
   "version": "3.6.5"
  }
 },
 "nbformat": 4,
 "nbformat_minor": 2
}
